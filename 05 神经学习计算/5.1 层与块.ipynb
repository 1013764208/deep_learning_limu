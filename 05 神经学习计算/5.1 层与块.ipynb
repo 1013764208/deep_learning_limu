{
 "cells": [
  {
   "cell_type": "code",
   "execution_count": 3,
   "id": "ac9df14f",
   "metadata": {
    "scrolled": false
   },
   "outputs": [
    {
     "data": {
      "text/plain": [
       "(tensor([[0.8749, 0.2246, 0.7873, 0.3886, 0.1643, 0.0534, 0.6975, 0.4991, 0.4113,\n",
       "          0.5312, 0.9499, 0.8090, 0.7174, 0.6089, 0.6567, 0.7868, 0.6155, 0.2169,\n",
       "          0.7337, 0.2052],\n",
       "         [0.4667, 0.7871, 0.5516, 0.9840, 0.2385, 0.4015, 0.8081, 0.5515, 0.4905,\n",
       "          0.8857, 0.6735, 0.7608, 0.3855, 0.7809, 0.2398, 0.3384, 0.6985, 0.9164,\n",
       "          0.0798, 0.1506]]),\n",
       " tensor([[-0.0763,  0.2052, -0.0221, -0.0063,  0.0793, -0.0930, -0.0534,  0.4438,\n",
       "          -0.2552, -0.2870],\n",
       "         [-0.0064,  0.1052, -0.1009, -0.0029,  0.0116, -0.1599, -0.0462,  0.4368,\n",
       "          -0.1410, -0.2636]], grad_fn=<AddmmBackward0>))"
      ]
     },
     "execution_count": 3,
     "metadata": {},
     "output_type": "execute_result"
    }
   ],
   "source": [
    "# 回顾感知机\n",
    "# nn.Sequential 定义了一种特殊的Module\n",
    "import torch\n",
    "from torch import nn\n",
    "from torch.nn import functional as F\n",
    "\n",
    "net = nn.Sequential(nn.Linear(20, 256), nn.ReLU(), nn.Linear(256, 10))\n",
    "\n",
    "X = torch.rand(2, 20)  # 创建一个形状为(2,20)的张量，其中的元素是均匀分布中随机抽取，范围 0-1\n",
    "X, net(X)"
   ]
  },
  {
   "cell_type": "markdown",
   "id": "f8e26c12",
   "metadata": {},
   "source": [
    "每个块必须提供的基本功能\n",
    "1. 将输入数据作为其向前传播函数的参数\n",
    "2. 通过前向传播函数来生成输出\n",
    "3. 计算其输出关于输入的梯度，可通过其反向传播函数进行访问，通常自动发生\n",
    "4. 存储和访问向前传播计算所需的参数\n",
    "5. 根据需要初始化模型参数"
   ]
  },
  {
   "cell_type": "code",
   "execution_count": 4,
   "id": "e3ef7480",
   "metadata": {},
   "outputs": [],
   "source": [
    "# 1.自定义块\n",
    "class MLP(nn.Module):\n",
    "    # 用模型参数声明层，这里，我们声明两个全连接的层\n",
    "    def __init__(self):\n",
    "        # 调用MLP的父类Module的构造函数来执行必要的初始化\n",
    "        # 这样，在类实例化时也可以指定其他函数参数，例如模型参数params\n",
    "        super().__init__()\n",
    "        self.hidden = nn.Linear(20, 256)  # 隐藏层\n",
    "        self.out = nn.Linear(256, 10)     # 输出层\n",
    "    \n",
    "    # 定义模型的前向传播，即如何根据输入 X 返回所需的模型输出\n",
    "    def forward(self, X):\n",
    "        # 注意：这里我们使用ReLU函数版本，其在nn.functional 模块中定义\n",
    "        return self.out(F.relu(self.hidden(X)))"
   ]
  },
  {
   "cell_type": "code",
   "execution_count": 5,
   "id": "08567c59",
   "metadata": {
    "scrolled": true
   },
   "outputs": [
    {
     "data": {
      "text/plain": [
       "tensor([[-0.0595, -0.0430,  0.0897,  0.0092,  0.0445, -0.1018,  0.0749, -0.0186,\n",
       "          0.0205,  0.0082],\n",
       "        [ 0.0164,  0.0198,  0.0947, -0.0214,  0.0125, -0.0801,  0.1584,  0.0141,\n",
       "          0.0911, -0.0122]], grad_fn=<AddmmBackward0>)"
      ]
     },
     "execution_count": 5,
     "metadata": {},
     "output_type": "execute_result"
    }
   ],
   "source": [
    "# 实例化多层感知机的层，然后在每次调用正向传播函数时调用这些层\n",
    "net = MLP()\n",
    "net(X)"
   ]
  },
  {
   "attachments": {},
   "cell_type": "markdown",
   "id": "fde41d81",
   "metadata": {},
   "source": [
    "现在我们可以更仔细地看看Sequential类是如何工作的， 回想一下Sequential的设计是为了把其他模块串起来。 为了构建我们自己的简化的MySequential， 我们只需要定义两个关键函数：\n",
    "\n",
    "1. 一种将块逐个追加到列表中的函数；\n",
    "\n",
    "2. 一种前向传播函数，用于将输入按追加块的顺序传递给块组成的“链条”。\n",
    "\n",
    "下面的MySequential类提供了与默认Sequential类相同的功能。"
   ]
  },
  {
   "cell_type": "code",
   "execution_count": 7,
   "id": "0d471256",
   "metadata": {},
   "outputs": [],
   "source": [
    "# 2. 顺序块\n",
    "class MySequential(nn.Module):\n",
    "    def __init__(self, *args):\n",
    "        super().__init__()\n",
    "        for block in args:\n",
    "            # 这里，module是Module子类的一个实例。我们把它保存在'Module'类的成员\n",
    "            # 变量_module中，_module的类型是OrderedDict\n",
    "            self._modules[block] = block\n",
    "\n",
    "    def forward(self, X):\n",
    "        # OrderedDict 保证了按照成员添加的顺序遍历它们\n",
    "        for block in self._modules.values():\n",
    "            X = block(X)\n",
    "        return X"
   ]
  },
  {
   "cell_type": "markdown",
   "id": "7d5f448b",
   "metadata": {},
   "source": [
    "\\_init_ 函数将每个模块逐个添加到有序字典_modules中。 \n",
    "\\_modules的主要优点是： 在模块的参数初始化过程中， 系统知道在_modules字典中查找需要初始化参数的子块。\n",
    "\n",
    "当MySequential的前向传播函数被调用时， 每个添加的块都按照它们被添加的顺序执行。 现在可以使用我们的MySequential类重新实现多层感知机"
   ]
  },
  {
   "cell_type": "code",
   "execution_count": 8,
   "id": "bfb938e0",
   "metadata": {
    "scrolled": false
   },
   "outputs": [
    {
     "data": {
      "text/plain": [
       "tensor([[-0.0784, -0.0997,  0.0847, -0.3399,  0.3741,  0.0969,  0.2020, -0.1440,\n",
       "          0.0521, -0.0545],\n",
       "        [-0.1515, -0.1083, -0.0465, -0.3770,  0.2863,  0.1587,  0.1655, -0.1569,\n",
       "          0.1741, -0.1354]], grad_fn=<AddmmBackward0>)"
      ]
     },
     "execution_count": 8,
     "metadata": {},
     "output_type": "execute_result"
    }
   ],
   "source": [
    "net = MySequential(nn.Linear(20, 256), nn.ReLU(), nn.Linear(256, 10))\n",
    "net(X)"
   ]
  },
  {
   "cell_type": "markdown",
   "id": "e48ca6c6",
   "metadata": {},
   "source": [
    "Sequential类使模型构造变得简单，允许我们组合新的架构，而不必定义自己的类。然而，并不是所有的架构都是简单的\n",
    "顺序架构。当需要更强的灵活性时，我们需要定义自己的块。例如，我们可能希望在前向传播函数中执行Python的控制流\n",
    "此外，我们可能希望执行任意的数学运算，而不是简单地依赖预定义的神经网络层。\n",
    "到目前为止，我们网络中的所有操作都对网络的激活值及网络的参数起作用。然而，有时我们可能希望合并既不是上一层的\n",
    "结果也不是可更新参数的项，我们称之为常数参数（constant parameter）。例如，我们需要一个计算函数\n",
    " $f({\\bf x},{\\bf w})=c\\,.$ w x的层，其中x是输入，w是参数，c是某个在优化过程中没有更新的指定常量。因此我们实现了一个\n",
    "F ixedHi ddenML P类，如下所示;"
   ]
  },
  {
   "cell_type": "code",
   "execution_count": 11,
   "id": "4ab8b40d",
   "metadata": {},
   "outputs": [
    {
     "data": {
      "text/plain": [
       "tensor(-0.2614, grad_fn=<SumBackward0>)"
      ]
     },
     "execution_count": 11,
     "metadata": {},
     "output_type": "execute_result"
    }
   ],
   "source": [
    "#  3.在前向传播函数中执行代码\n",
    "class FixedHiddenMLP(nn.Module):\n",
    "    def __init__(self):\n",
    "        super().__init__()\n",
    "        # 不计算梯度随机权重参数，因此其在训练期间保持不变\n",
    "        self.rand_weight = torch.rand((20, 20), requires_grad=False)\n",
    "        self.linear = nn.Linear(20, 20)\n",
    "        \n",
    "    def forward(self, X):\n",
    "        X = self.linear(X)\n",
    "        # 使用创建的常量参数以及relu和mm函数\n",
    "        X = F.relu(torch.mm(X, self.rand_weight) + 1)\n",
    "        # 复用全连接层，这相对于两个全连接层共享参数\n",
    "        X = self.linear(X)\n",
    "        # 控制流\n",
    "        while X.abs().sum() > 1:\n",
    "            X /= 2\n",
    "        return X.sum()\n",
    "\n",
    "net = FixedHiddenMLP()\n",
    "net(X)"
   ]
  },
  {
   "cell_type": "markdown",
   "id": "49a6170b",
   "metadata": {},
   "source": [
    "在这个FixedHiddenMLP模型中，我们实现了一个隐藏层，其权重（self.rand_weight）在实例化时被随机初始化，之\n",
    "后为常量。这个权重不是一个模型参数，因此它永远不会被反向传播更新。然后，神经网络将这个固定层的输出通过一个全\n",
    "连接层。\n",
    "注意，在返回输出之前，模型做了一些不寻常的事情：它运行了一个while循环，在Li范数大于1的条件下，将输出向量除以\n",
    "2，直到它满足条件为止。最后，模型返回了X中所有项的和。注意，此操作可能不会常用于在任何实际任务中，我们只展\n",
    "示如何将任意代码集成到神经网络计算的流程中"
   ]
  },
  {
   "cell_type": "code",
   "execution_count": 13,
   "id": "45bab6ec",
   "metadata": {},
   "outputs": [
    {
     "data": {
      "text/plain": [
       "tensor(0.0051, grad_fn=<SumBackward0>)"
      ]
     },
     "execution_count": 13,
     "metadata": {},
     "output_type": "execute_result"
    }
   ],
   "source": [
    "# 混合搭配各种组合块的方法\n",
    "class NestMLP(nn.Module):\n",
    "    def __init__(self):\n",
    "        super().__init__()\n",
    "        self.net = nn.Sequential(nn.Linear(20, 64), nn.ReLU(),\n",
    "                                 nn.Linear(64,32), nn.ReLU())\n",
    "        self.linear = nn.Linear(32, 16)\n",
    "    \n",
    "    def forward(self, X):\n",
    "        return self.linear(self.net(X))\n",
    "\n",
    "chimera = nn.Sequential(NestMLP(), nn.Linear(16, 20), FixedHiddenMLP())\n",
    "chimera(X)"
   ]
  }
 ],
 "metadata": {
  "kernelspec": {
   "display_name": "Python 3 (ipykernel)",
   "language": "python",
   "name": "python3"
  },
  "language_info": {
   "codemirror_mode": {
    "name": "ipython",
    "version": 3
   },
   "file_extension": ".py",
   "mimetype": "text/x-python",
   "name": "python",
   "nbconvert_exporter": "python",
   "pygments_lexer": "ipython3",
   "version": "3.9.13"
  }
 },
 "nbformat": 4,
 "nbformat_minor": 5
}

{
 "cells": [
  {
   "cell_type": "code",
   "execution_count": 1,
   "id": "7ddf9842",
   "metadata": {},
   "outputs": [],
   "source": [
    "# 4.多项式回归\n",
    "# 通过多项式拟合来交互地探索这些概念\n",
    "import math\n",
    "import numpy as np\n",
    "import torch\n",
    "from torch import nn\n",
    "from d2l import torch as d2l"
   ]
  },
  {
   "cell_type": "markdown",
   "id": "f60327d8",
   "metadata": {},
   "source": [
    "使用以下三阶多项式来生成训练和测试数据的标签:\n",
    "$$\n",
    "y=5+1.2x-3.4{\\frac{x^{2}}{2!}}+5.6{\\frac{x^{3}}{3!}}+\\epsilon\\mathrm{~where~}\\epsilon\\sim\\mathcal{N}(0,0.1^{2}). \n",
    "$$"
   ]
  },
  {
   "cell_type": "code",
   "execution_count": 4,
   "id": "d69759b5",
   "metadata": {},
   "outputs": [],
   "source": [
    "max_degree = 20\n",
    "n_train, n_test = 100, 100  # 训练样本 100，测试样本（就是验证集的意思） 100\n",
    "true_w = np.zeros(max_degree)\n",
    "true_w[0:4] = np.array([5, 1.2, -3.4, 5.6])\n",
    "\n",
    "features = np.random.normal(size=(n_train + n_test, 1))\n",
    "np.random.shuffle(features)\n",
    "poly_features = np.power(features, np.arange(max_degree).reshape(1, -1))\n",
    "for i in range(max_degree):\n",
    "    poly_features[:, i] /= math.gamma(i + 1)\n",
    "labels = np.dot(poly_features, true_w)\n",
    "labels += np.random.normal(scale=0.1, size=labels.shape)"
   ]
  }
 ],
 "metadata": {
  "kernelspec": {
   "display_name": "Python 3 (ipykernel)",
   "language": "python",
   "name": "python3"
  },
  "language_info": {
   "codemirror_mode": {
    "name": "ipython",
    "version": 3
   },
   "file_extension": ".py",
   "mimetype": "text/x-python",
   "name": "python",
   "nbconvert_exporter": "python",
   "pygments_lexer": "ipython3",
   "version": "3.9.13"
  }
 },
 "nbformat": 4,
 "nbformat_minor": 5
}

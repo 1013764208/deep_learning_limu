{
 "cells": [
  {
   "cell_type": "code",
   "execution_count": 6,
   "id": "3776e6fd",
   "metadata": {},
   "outputs": [
    {
     "data": {
      "text/plain": [
       "[tensor([[-0.1978,  0.0853],\n",
       "         [-1.1126, -0.1759],\n",
       "         [-0.1537, -0.9709],\n",
       "         [ 0.2303, -1.4616],\n",
       "         [-0.8647, -0.5975],\n",
       "         [-0.6471, -0.7111],\n",
       "         [-1.7706,  0.5580],\n",
       "         [ 1.7173,  0.3105],\n",
       "         [-1.2636,  0.6888],\n",
       "         [-0.4289,  0.0901]]),\n",
       " tensor([[ 3.5183],\n",
       "         [ 2.5635],\n",
       "         [ 7.1895],\n",
       "         [ 9.6273],\n",
       "         [ 4.5042],\n",
       "         [ 5.3213],\n",
       "         [-1.2377],\n",
       "         [ 6.5740],\n",
       "         [-0.6649],\n",
       "         [ 3.0322]])]"
      ]
     },
     "execution_count": 6,
     "metadata": {},
     "output_type": "execute_result"
    }
   ],
   "source": [
    "## 通过使用深度学习框架来简洁地实现 线性回归模型 生成数据集\n",
    "import numpy as np\n",
    "import torch \n",
    "from torch.utils import data\n",
    "from d2l import torch as d2l \n",
    "\n",
    "true_w = torch.tensor([2, -3.4])\n",
    "true_b = 4.2\n",
    "features, labels = d2l.synthetic_data(true_w, true_b, 1000)\n",
    "\n",
    "# 调用框架中现有 API 来读取数据\n",
    "def load_array(data_arrays, batch_size, is_train=True):\n",
    "    \"\"\"构造一个pyTorch数据迭代器\"\"\"\n",
    "    dataset = data.TensorDataset(*data_arrays)  # * 拆包 （元组）\n",
    "    return data.DataLoader(dataset, batch_size, shuffle=is_train)  # 批量随机数据集\n",
    "\n",
    "batch_size = 10\n",
    "data_iter = load_array((features, labels), batch_size)\n",
    "\n",
    "next(iter(data_iter))"
   ]
  },
  {
   "cell_type": "code",
   "execution_count": 12,
   "id": "55b8775e",
   "metadata": {},
   "outputs": [],
   "source": [
    "## 使用框架的预定于好的层\n",
    "# 'nn' 是神经网络的缩写\n",
    "from torch import nn\n",
    "\n",
    "\"\"\"nn.Swquentail 可以将多个神经网络层按顺序组合在一起，形成一个新的神经网络，nn,Linear是其中一个线性层\n",
    "   其中 Linear(2,1) 表示输入数据有两个特征，输出数据有一个特征 \"\"\"\n",
    "\n",
    "net = nn.Sequential(nn.Linear(2,1))"
   ]
  },
  {
   "cell_type": "code",
   "execution_count": 11,
   "id": "af518450",
   "metadata": {},
   "outputs": [
    {
     "data": {
      "text/plain": [
       "tensor([0.])"
      ]
     },
     "execution_count": 11,
     "metadata": {},
     "output_type": "execute_result"
    }
   ],
   "source": [
    "## 初始化模型参数\n",
    "net[0].weight.data.normal_(0, 0.01) # 使用 normal（0，0.01） 替换 net.weight.data\n",
    "net[0].bias.data.fill_(0)"
   ]
  },
  {
   "cell_type": "code",
   "execution_count": 13,
   "id": "3bd39baf",
   "metadata": {},
   "outputs": [],
   "source": [
    "## 计算均方误差使用的是 MSELoss 类，也称为 平方L2范式\n",
    "loss = nn.MSELoss()"
   ]
  },
  {
   "cell_type": "code",
   "execution_count": 15,
   "id": "edd6215d",
   "metadata": {},
   "outputs": [],
   "source": [
    "## 实例化 SGD 实例\n",
    "\"\"\"torch.optim.SGD 是 PyTorch 中的一个优化器，它可以用来优化神经网络的参数。在你的代码中，net.parameters() 表示需要优化的参数，\n",
    "   lr=0.03 表示学习率为 0.03。这里的学习率是指每次更新参数时的步长，它决定了模型收敛的速度和效果\"\"\"\n",
    "\n",
    "trainer = torch.optim.SGD(net.parameters(), lr=0.03)"
   ]
  },
  {
   "cell_type": "code",
   "execution_count": 18,
   "id": "423c724f",
   "metadata": {},
   "outputs": [
    {
     "name": "stdout",
     "output_type": "stream",
     "text": [
      "epoch1, loss0.000102\n",
      "epoch2, loss0.000102\n",
      "epoch3, loss0.000103\n"
     ]
    }
   ],
   "source": [
    "## 训练过程代码与我们从零开始实现时所做的非常相似\n",
    "num_epochs = 3\n",
    "for epoch in range(num_epochs):\n",
    "    for X, y in data_iter:\n",
    "        l = loss(net(X), y)\n",
    "        trainer.zero_grad()\n",
    "        l.backward()\n",
    "        trainer.step()\n",
    "    l = loss(net(features), labels)\n",
    "    print(f'epoch{epoch + 1}, loss{l:f}')"
   ]
  }
 ],
 "metadata": {
  "kernelspec": {
   "display_name": "Python 3 (ipykernel)",
   "language": "python",
   "name": "python3"
  },
  "language_info": {
   "codemirror_mode": {
    "name": "ipython",
    "version": 3
   },
   "file_extension": ".py",
   "mimetype": "text/x-python",
   "name": "python",
   "nbconvert_exporter": "python",
   "pygments_lexer": "ipython3",
   "version": "3.9.13"
  }
 },
 "nbformat": 4,
 "nbformat_minor": 5
}
